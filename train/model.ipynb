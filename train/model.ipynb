{
 "cells": [
  {
   "cell_type": "markdown",
   "metadata": {},
   "source": [
    "IMPORTING MODULES"
   ]
  },
  {
   "cell_type": "code",
   "execution_count": 2,
   "metadata": {},
   "outputs": [],
   "source": [
    "import os\n",
    "import pandas as pd\n",
    "import tensorflow as tf\n",
    "from matplotlib import pyplot as plt\n",
    "from transformers import BertTokenizer, TFBertModel"
   ]
  },
  {
   "cell_type": "markdown",
   "metadata": {},
   "source": [
    "LOADING DATASET"
   ]
  },
  {
   "cell_type": "code",
   "execution_count": 3,
   "metadata": {},
   "outputs": [
    {
     "data": {
      "text/html": [
       "<div>\n",
       "<style scoped>\n",
       "    .dataframe tbody tr th:only-of-type {\n",
       "        vertical-align: middle;\n",
       "    }\n",
       "\n",
       "    .dataframe tbody tr th {\n",
       "        vertical-align: top;\n",
       "    }\n",
       "\n",
       "    .dataframe thead th {\n",
       "        text-align: right;\n",
       "    }\n",
       "</style>\n",
       "<table border=\"1\" class=\"dataframe\">\n",
       "  <thead>\n",
       "    <tr style=\"text-align: right;\">\n",
       "      <th></th>\n",
       "      <th>Category</th>\n",
       "      <th>Message</th>\n",
       "    </tr>\n",
       "  </thead>\n",
       "  <tbody>\n",
       "    <tr>\n",
       "      <th>0</th>\n",
       "      <td>ham</td>\n",
       "      <td>Go until jurong point, crazy.. Available only ...</td>\n",
       "    </tr>\n",
       "    <tr>\n",
       "      <th>1</th>\n",
       "      <td>ham</td>\n",
       "      <td>Ok lar... Joking wif u oni...</td>\n",
       "    </tr>\n",
       "    <tr>\n",
       "      <th>2</th>\n",
       "      <td>spam</td>\n",
       "      <td>Free entry in 2 a wkly comp to win FA Cup fina...</td>\n",
       "    </tr>\n",
       "    <tr>\n",
       "      <th>3</th>\n",
       "      <td>ham</td>\n",
       "      <td>U dun say so early hor... U c already then say...</td>\n",
       "    </tr>\n",
       "    <tr>\n",
       "      <th>4</th>\n",
       "      <td>ham</td>\n",
       "      <td>Nah I don't think he goes to usf, he lives aro...</td>\n",
       "    </tr>\n",
       "  </tbody>\n",
       "</table>\n",
       "</div>"
      ],
      "text/plain": [
       "  Category                                            Message\n",
       "0      ham  Go until jurong point, crazy.. Available only ...\n",
       "1      ham                      Ok lar... Joking wif u oni...\n",
       "2     spam  Free entry in 2 a wkly comp to win FA Cup fina...\n",
       "3      ham  U dun say so early hor... U c already then say...\n",
       "4      ham  Nah I don't think he goes to usf, he lives aro..."
      ]
     },
     "execution_count": 3,
     "metadata": {},
     "output_type": "execute_result"
    }
   ],
   "source": [
    "df = pd.read_csv('/Users/alex/Desktop/projects/SpamDetector/dataset/spam.csv')\n",
    "df.head(5)"
   ]
  },
  {
   "cell_type": "markdown",
   "metadata": {},
   "source": [
    "EXAMINING DATASET"
   ]
  },
  {
   "cell_type": "code",
   "execution_count": 4,
   "metadata": {},
   "outputs": [
    {
     "data": {
      "text/plain": [
       "(5572, 2)"
      ]
     },
     "execution_count": 4,
     "metadata": {},
     "output_type": "execute_result"
    }
   ],
   "source": [
    "df.shape"
   ]
  },
  {
   "cell_type": "code",
   "execution_count": 5,
   "metadata": {},
   "outputs": [
    {
     "data": {
      "text/plain": [
       "Category    0\n",
       "Message     0\n",
       "dtype: int64"
      ]
     },
     "execution_count": 5,
     "metadata": {},
     "output_type": "execute_result"
    }
   ],
   "source": [
    "df.isnull().sum()"
   ]
  },
  {
   "cell_type": "code",
   "execution_count": 6,
   "metadata": {},
   "outputs": [
    {
     "data": {
      "text/html": [
       "<div>\n",
       "<style scoped>\n",
       "    .dataframe tbody tr th:only-of-type {\n",
       "        vertical-align: middle;\n",
       "    }\n",
       "\n",
       "    .dataframe tbody tr th {\n",
       "        vertical-align: top;\n",
       "    }\n",
       "\n",
       "    .dataframe thead th {\n",
       "        text-align: right;\n",
       "    }\n",
       "</style>\n",
       "<table border=\"1\" class=\"dataframe\">\n",
       "  <thead>\n",
       "    <tr style=\"text-align: right;\">\n",
       "      <th></th>\n",
       "      <th>Message</th>\n",
       "    </tr>\n",
       "    <tr>\n",
       "      <th>Category</th>\n",
       "      <th></th>\n",
       "    </tr>\n",
       "  </thead>\n",
       "  <tbody>\n",
       "    <tr>\n",
       "      <th>ham</th>\n",
       "      <td>4825</td>\n",
       "    </tr>\n",
       "    <tr>\n",
       "      <th>spam</th>\n",
       "      <td>747</td>\n",
       "    </tr>\n",
       "  </tbody>\n",
       "</table>\n",
       "</div>"
      ],
      "text/plain": [
       "          Message\n",
       "Category         \n",
       "ham          4825\n",
       "spam          747"
      ]
     },
     "execution_count": 6,
     "metadata": {},
     "output_type": "execute_result"
    }
   ],
   "source": [
    "df.groupby(df['Category']).count()"
   ]
  },
  {
   "cell_type": "markdown",
   "metadata": {},
   "source": [
    "CLASS IMBALANCE PROBLEM"
   ]
  },
  {
   "cell_type": "code",
   "execution_count": 7,
   "metadata": {},
   "outputs": [],
   "source": [
    "spam_df = df[df['Category']=='spam']\n",
    "ham_df = df[df['Category']=='ham'].sample(spam_df.shape[0])\n",
    "df2 = pd.concat([spam_df, ham_df], axis=0)"
   ]
  },
  {
   "cell_type": "markdown",
   "metadata": {},
   "source": [
    "ONE-HOT ENCODING LABEL"
   ]
  },
  {
   "cell_type": "code",
   "execution_count": 8,
   "metadata": {},
   "outputs": [
    {
     "data": {
      "text/html": [
       "<div>\n",
       "<style scoped>\n",
       "    .dataframe tbody tr th:only-of-type {\n",
       "        vertical-align: middle;\n",
       "    }\n",
       "\n",
       "    .dataframe tbody tr th {\n",
       "        vertical-align: top;\n",
       "    }\n",
       "\n",
       "    .dataframe thead th {\n",
       "        text-align: right;\n",
       "    }\n",
       "</style>\n",
       "<table border=\"1\" class=\"dataframe\">\n",
       "  <thead>\n",
       "    <tr style=\"text-align: right;\">\n",
       "      <th></th>\n",
       "      <th>Message</th>\n",
       "      <th>spam</th>\n",
       "    </tr>\n",
       "  </thead>\n",
       "  <tbody>\n",
       "    <tr>\n",
       "      <th>2</th>\n",
       "      <td>Free entry in 2 a wkly comp to win FA Cup fina...</td>\n",
       "      <td>1</td>\n",
       "    </tr>\n",
       "    <tr>\n",
       "      <th>5</th>\n",
       "      <td>FreeMsg Hey there darling it's been 3 week's n...</td>\n",
       "      <td>1</td>\n",
       "    </tr>\n",
       "    <tr>\n",
       "      <th>8</th>\n",
       "      <td>WINNER!! As a valued network customer you have...</td>\n",
       "      <td>1</td>\n",
       "    </tr>\n",
       "    <tr>\n",
       "      <th>9</th>\n",
       "      <td>Had your mobile 11 months or more? U R entitle...</td>\n",
       "      <td>1</td>\n",
       "    </tr>\n",
       "    <tr>\n",
       "      <th>11</th>\n",
       "      <td>SIX chances to win CASH! From 100 to 20,000 po...</td>\n",
       "      <td>1</td>\n",
       "    </tr>\n",
       "    <tr>\n",
       "      <th>...</th>\n",
       "      <td>...</td>\n",
       "      <td>...</td>\n",
       "    </tr>\n",
       "    <tr>\n",
       "      <th>4234</th>\n",
       "      <td>My love ... I hope your not doing anything dra...</td>\n",
       "      <td>0</td>\n",
       "    </tr>\n",
       "    <tr>\n",
       "      <th>1709</th>\n",
       "      <td>How's my loverboy doing ? What does he do that...</td>\n",
       "      <td>0</td>\n",
       "    </tr>\n",
       "    <tr>\n",
       "      <th>3663</th>\n",
       "      <td>What are you doing in langport? Sorry, but I'l...</td>\n",
       "      <td>0</td>\n",
       "    </tr>\n",
       "    <tr>\n",
       "      <th>4105</th>\n",
       "      <td>Do u hav any frnd by name ashwini in ur college?</td>\n",
       "      <td>0</td>\n",
       "    </tr>\n",
       "    <tr>\n",
       "      <th>3768</th>\n",
       "      <td>Sir Goodmorning, Once free call me.</td>\n",
       "      <td>0</td>\n",
       "    </tr>\n",
       "  </tbody>\n",
       "</table>\n",
       "<p>1494 rows × 2 columns</p>\n",
       "</div>"
      ],
      "text/plain": [
       "                                                Message  spam\n",
       "2     Free entry in 2 a wkly comp to win FA Cup fina...     1\n",
       "5     FreeMsg Hey there darling it's been 3 week's n...     1\n",
       "8     WINNER!! As a valued network customer you have...     1\n",
       "9     Had your mobile 11 months or more? U R entitle...     1\n",
       "11    SIX chances to win CASH! From 100 to 20,000 po...     1\n",
       "...                                                 ...   ...\n",
       "4234  My love ... I hope your not doing anything dra...     0\n",
       "1709  How's my loverboy doing ? What does he do that...     0\n",
       "3663  What are you doing in langport? Sorry, but I'l...     0\n",
       "4105   Do u hav any frnd by name ashwini in ur college?     0\n",
       "3768                Sir Goodmorning, Once free call me.     0\n",
       "\n",
       "[1494 rows x 2 columns]"
      ]
     },
     "execution_count": 8,
     "metadata": {},
     "output_type": "execute_result"
    }
   ],
   "source": [
    "dummy_label = pd.get_dummies(df2['Category'], dtype=int, drop_first=True)\n",
    "df3 = pd.concat([df2, dummy_label], axis=1)\n",
    "df3.drop('Category', axis=1, inplace=True)\n",
    "df3"
   ]
  },
  {
   "cell_type": "markdown",
   "metadata": {},
   "source": [
    "SPLITTING THE DATA INTO TRAINING AND TESTING SET"
   ]
  },
  {
   "cell_type": "code",
   "execution_count": 9,
   "metadata": {},
   "outputs": [
    {
     "data": {
      "text/plain": [
       "((1195, 1), (299, 1), (1195,), (299,))"
      ]
     },
     "execution_count": 9,
     "metadata": {},
     "output_type": "execute_result"
    }
   ],
   "source": [
    "from sklearn.model_selection import train_test_split\n",
    "X_train, X_test, y_train, y_test = train_test_split(df3.drop('spam', axis=1), df3['spam'], test_size=0.2, random_state=42, stratify=df3['spam'])\n",
    "X_train.shape, X_test.shape, y_train.shape, y_test.shape"
   ]
  },
  {
   "cell_type": "markdown",
   "metadata": {},
   "source": [
    "BERT FOR SENTENCE EMBEDDING"
   ]
  },
  {
   "cell_type": "code",
   "execution_count": 10,
   "metadata": {},
   "outputs": [
    {
     "name": "stderr",
     "output_type": "stream",
     "text": [
      "Some weights of the PyTorch model were not used when initializing the TF 2.0 model TFBertModel: ['cls.predictions.transform.LayerNorm.weight', 'cls.seq_relationship.weight', 'cls.predictions.bias', 'cls.predictions.transform.LayerNorm.bias', 'cls.predictions.transform.dense.bias', 'cls.predictions.transform.dense.weight', 'cls.seq_relationship.bias']\n",
      "- This IS expected if you are initializing TFBertModel from a PyTorch model trained on another task or with another architecture (e.g. initializing a TFBertForSequenceClassification model from a BertForPreTraining model).\n",
      "- This IS NOT expected if you are initializing TFBertModel from a PyTorch model that you expect to be exactly identical (e.g. initializing a TFBertForSequenceClassification model from a BertForSequenceClassification model).\n",
      "All the weights of TFBertModel were initialized from the PyTorch model.\n",
      "If your task is similar to the task the model of the checkpoint was trained on, you can already use TFBertModel for predictions without further training.\n"
     ]
    }
   ],
   "source": [
    "tokenizer = BertTokenizer.from_pretrained('bert-base-uncased')\n",
    "encoder = TFBertModel.from_pretrained('bert-base-uncased')"
   ]
  },
  {
   "cell_type": "code",
   "execution_count": 11,
   "metadata": {},
   "outputs": [],
   "source": [
    "X_train_tokenized = tokenizer(list(X_train['Message']), padding=True, truncation=True, return_tensors='tf')\n",
    "X_train_encoded = encoder(X_train_tokenized).pooler_output"
   ]
  },
  {
   "cell_type": "markdown",
   "metadata": {},
   "source": [
    "MODEL BUILD AND TUNING"
   ]
  },
  {
   "cell_type": "code",
   "execution_count": 32,
   "metadata": {},
   "outputs": [],
   "source": [
    "THRESHOLD = 0.6\n",
    "METRICS = [\n",
    "    tf.keras.metrics.BinaryAccuracy(threshold = THRESHOLD, name='accuracy'),\n",
    "    tf.keras.metrics.Recall(thresholds = THRESHOLD, name='recall'),\n",
    "    tf.keras.metrics.Precision(thresholds = THRESHOLD, name='precision'),\n",
    "    tf.keras.metrics.AUC(num_thresholds=100, name='auc')\n",
    "]\n",
    "LEARNING_RATE = 0.003\n",
    "VALIDATION_SPLIT = 0.2\n",
    "EPOCHS = 20\n",
    "BATCH_SIZE = 32"
   ]
  },
  {
   "cell_type": "code",
   "execution_count": 48,
   "metadata": {},
   "outputs": [
    {
     "name": "stderr",
     "output_type": "stream",
     "text": [
      "WARNING:absl:At this time, the v2.11+ optimizer `tf.keras.optimizers.Adam` runs slowly on M1/M2 Macs, please use the legacy Keras optimizer instead, located at `tf.keras.optimizers.legacy.Adam`.\n"
     ]
    }
   ],
   "source": [
    "def create_model(LEARNING_RATE, METRICS):\n",
    "    #Model creation function\n",
    "    my_model = tf.keras.models.Sequential([\n",
    "        tf.keras.layers.Bidirectional(tf.keras.layers.LSTM(128, input_shape=(1195, 768), activation='tanh', return_sequences=True)),\n",
    "        tf.keras.layers.Dense(64, activation='relu'),\n",
    "        tf.keras.layers.Dropout(0.5),\n",
    "        tf.keras.layers.Dense(units=1, activation='sigmoid')\n",
    "    ])\n",
    "    \n",
    "    my_model.compile(optimizer=tf.keras.optimizers.Adam(learning_rate=LEARNING_RATE),\n",
    "                    loss = tf.keras.losses.BinaryCrossentropy(),\n",
    "                    metrics = [METRICS])\n",
    "    \n",
    "    return my_model\n",
    "\n",
    "my_model = create_model(LEARNING_RATE, METRICS)"
   ]
  },
  {
   "cell_type": "markdown",
   "metadata": {},
   "source": [
    "MODEL TRAINING"
   ]
  },
  {
   "cell_type": "code",
   "execution_count": 49,
   "metadata": {},
   "outputs": [],
   "source": [
    "def model_train(model, x, y, validation_split, epochs, batch_size):\n",
    "    #Model training function\n",
    "    history = model.fit(x, y, validation_split=validation_split, epochs=epochs, batch_size=batch_size)\n",
    "    return history\n",
    "\n",
    "X_train_reshaped = tf.expand_dims(X_train_encoded, axis=1)"
   ]
  },
  {
   "cell_type": "code",
   "execution_count": 50,
   "metadata": {},
   "outputs": [
    {
     "name": "stdout",
     "output_type": "stream",
     "text": [
      "Epoch 1/20\n",
      "30/30 [==============================] - 3s 25ms/step - loss: 0.5375 - accuracy: 0.7705 - recall: 0.6699 - precision: 0.8383 - auc: 0.8667 - val_loss: 0.3427 - val_accuracy: 0.8745 - val_recall: 0.9250 - val_precision: 0.8409 - val_auc: 0.9445\n",
      "Epoch 2/20\n",
      "30/30 [==============================] - 0s 7ms/step - loss: 0.3584 - accuracy: 0.8588 - recall: 0.8452 - precision: 0.8688 - auc: 0.9192 - val_loss: 0.2899 - val_accuracy: 0.8828 - val_recall: 0.8000 - val_precision: 0.9600 - val_auc: 0.9610\n",
      "Epoch 3/20\n",
      "30/30 [==============================] - 0s 7ms/step - loss: 0.2568 - accuracy: 0.9079 - recall: 0.8912 - precision: 0.9221 - auc: 0.9553 - val_loss: 0.2053 - val_accuracy: 0.9414 - val_recall: 0.9333 - val_precision: 0.9492 - val_auc: 0.9752\n",
      "Epoch 4/20\n",
      "30/30 [==============================] - 0s 7ms/step - loss: 0.2326 - accuracy: 0.9006 - recall: 0.8661 - precision: 0.9303 - auc: 0.9675 - val_loss: 0.1658 - val_accuracy: 0.9414 - val_recall: 0.9167 - val_precision: 0.9649 - val_auc: 0.9822\n",
      "Epoch 5/20\n",
      "30/30 [==============================] - 0s 7ms/step - loss: 0.2016 - accuracy: 0.9299 - recall: 0.9226 - precision: 0.9363 - auc: 0.9726 - val_loss: 0.1750 - val_accuracy: 0.9247 - val_recall: 0.8667 - val_precision: 0.9811 - val_auc: 0.9854\n",
      "Epoch 6/20\n",
      "30/30 [==============================] - 0s 7ms/step - loss: 0.2558 - accuracy: 0.9038 - recall: 0.8745 - precision: 0.9289 - auc: 0.9597 - val_loss: 0.2070 - val_accuracy: 0.9331 - val_recall: 0.9667 - val_precision: 0.9062 - val_auc: 0.9813\n",
      "Epoch 7/20\n",
      "30/30 [==============================] - 0s 7ms/step - loss: 0.2078 - accuracy: 0.9163 - recall: 0.8975 - precision: 0.9326 - auc: 0.9730 - val_loss: 0.1349 - val_accuracy: 0.9582 - val_recall: 0.9500 - val_precision: 0.9661 - val_auc: 0.9857\n",
      "Epoch 8/20\n",
      "30/30 [==============================] - 0s 8ms/step - loss: 0.1632 - accuracy: 0.9435 - recall: 0.9393 - precision: 0.9473 - auc: 0.9825 - val_loss: 0.1449 - val_accuracy: 0.9623 - val_recall: 0.9667 - val_precision: 0.9587 - val_auc: 0.9861\n",
      "Epoch 9/20\n",
      "30/30 [==============================] - 0s 9ms/step - loss: 0.1321 - accuracy: 0.9571 - recall: 0.9561 - precision: 0.9581 - auc: 0.9864 - val_loss: 0.1228 - val_accuracy: 0.9540 - val_recall: 0.9583 - val_precision: 0.9504 - val_auc: 0.9894\n",
      "Epoch 10/20\n",
      "30/30 [==============================] - 0s 7ms/step - loss: 0.1887 - accuracy: 0.9257 - recall: 0.9038 - precision: 0.9453 - auc: 0.9780 - val_loss: 0.1613 - val_accuracy: 0.9331 - val_recall: 0.8750 - val_precision: 0.9906 - val_auc: 0.9859\n",
      "Epoch 11/20\n",
      "30/30 [==============================] - 0s 7ms/step - loss: 0.1298 - accuracy: 0.9571 - recall: 0.9393 - precision: 0.9740 - auc: 0.9874 - val_loss: 0.1188 - val_accuracy: 0.9665 - val_recall: 0.9667 - val_precision: 0.9667 - val_auc: 0.9890\n",
      "Epoch 12/20\n",
      "30/30 [==============================] - 0s 7ms/step - loss: 0.1271 - accuracy: 0.9623 - recall: 0.9582 - precision: 0.9662 - auc: 0.9883 - val_loss: 0.1561 - val_accuracy: 0.9582 - val_recall: 0.9667 - val_precision: 0.9508 - val_auc: 0.9860\n",
      "Epoch 13/20\n",
      "30/30 [==============================] - 0s 7ms/step - loss: 0.1134 - accuracy: 0.9655 - recall: 0.9665 - precision: 0.9645 - auc: 0.9881 - val_loss: 0.1806 - val_accuracy: 0.9205 - val_recall: 0.8500 - val_precision: 0.9903 - val_auc: 0.9895\n",
      "Epoch 14/20\n",
      "30/30 [==============================] - 0s 6ms/step - loss: 0.1524 - accuracy: 0.9487 - recall: 0.9414 - precision: 0.9554 - auc: 0.9828 - val_loss: 0.2156 - val_accuracy: 0.8996 - val_recall: 0.8000 - val_precision: 1.0000 - val_auc: 0.9892\n",
      "Epoch 15/20\n",
      "30/30 [==============================] - 0s 7ms/step - loss: 0.1268 - accuracy: 0.9550 - recall: 0.9456 - precision: 0.9638 - auc: 0.9891 - val_loss: 0.1082 - val_accuracy: 0.9707 - val_recall: 0.9500 - val_precision: 0.9913 - val_auc: 0.9893\n",
      "Epoch 16/20\n",
      "30/30 [==============================] - 0s 7ms/step - loss: 0.1045 - accuracy: 0.9665 - recall: 0.9561 - precision: 0.9765 - auc: 0.9894 - val_loss: 0.1971 - val_accuracy: 0.9498 - val_recall: 0.9750 - val_precision: 0.9286 - val_auc: 0.9847\n",
      "Epoch 17/20\n",
      "30/30 [==============================] - 0s 9ms/step - loss: 0.1062 - accuracy: 0.9665 - recall: 0.9582 - precision: 0.9745 - auc: 0.9909 - val_loss: 0.1115 - val_accuracy: 0.9707 - val_recall: 0.9500 - val_precision: 0.9913 - val_auc: 0.9907\n",
      "Epoch 18/20\n",
      "30/30 [==============================] - 0s 8ms/step - loss: 0.1070 - accuracy: 0.9718 - recall: 0.9644 - precision: 0.9788 - auc: 0.9895 - val_loss: 0.1331 - val_accuracy: 0.9540 - val_recall: 0.9083 - val_precision: 1.0000 - val_auc: 0.9875\n",
      "Epoch 19/20\n",
      "30/30 [==============================] - 0s 8ms/step - loss: 0.1319 - accuracy: 0.9603 - recall: 0.9456 - precision: 0.9741 - auc: 0.9864 - val_loss: 0.1392 - val_accuracy: 0.9456 - val_recall: 0.9000 - val_precision: 0.9908 - val_auc: 0.9903\n",
      "Epoch 20/20\n",
      "30/30 [==============================] - 0s 10ms/step - loss: 0.0954 - accuracy: 0.9707 - recall: 0.9603 - precision: 0.9808 - auc: 0.9912 - val_loss: 0.1059 - val_accuracy: 0.9707 - val_recall: 0.9667 - val_precision: 0.9748 - val_auc: 0.9896\n"
     ]
    }
   ],
   "source": [
    "history = model_train(my_model, X_train_reshaped, y_train, VALIDATION_SPLIT, EPOCHS, BATCH_SIZE)"
   ]
  },
  {
   "cell_type": "markdown",
   "metadata": {},
   "source": [
    "MODEL EVALUATION"
   ]
  },
  {
   "cell_type": "code",
   "execution_count": 16,
   "metadata": {},
   "outputs": [],
   "source": [
    "X_test_tokenized = tokenizer(list(X_test['Message']), padding=True, truncation=True, return_tensors='tf')\n",
    "X_test_encoded = encoder(X_test_tokenized).pooler_output"
   ]
  },
  {
   "cell_type": "code",
   "execution_count": 51,
   "metadata": {},
   "outputs": [
    {
     "name": "stdout",
     "output_type": "stream",
     "text": [
      "10/10 [==============================] - 0s 2ms/step - loss: 0.1217 - accuracy: 0.9666 - recall: 0.9664 - precision: 0.9664 - auc: 0.9875\n"
     ]
    },
    {
     "data": {
      "text/plain": [
       "[0.12167578935623169,\n",
       " 0.9665551781654358,\n",
       " 0.9664429426193237,\n",
       " 0.9664429426193237,\n",
       " 0.9875167608261108]"
      ]
     },
     "execution_count": 51,
     "metadata": {},
     "output_type": "execute_result"
    }
   ],
   "source": [
    "X_test_reshaped = tf.expand_dims(X_test_encoded, axis=1)\n",
    "my_model.evaluate(x = X_test_reshaped, y = y_test, batch_size=32)"
   ]
  },
  {
   "cell_type": "code",
   "execution_count": 37,
   "metadata": {},
   "outputs": [
    {
     "data": {
      "image/png": "[encoded data removed]",
      "text/plain": [
       "<Figure size 640x480 with 1 Axes>"
      ]
     },
     "metadata": {},
     "output_type": "display_data"
    }
   ],
   "source": [
    "model_metrics = pd.DataFrame(history.history)\n",
    "model_epochs = history.epoch\n",
    "eval_metrics = ['loss','val_loss','accuracy','val_accuracy']\n",
    "\n",
    "def plot_metrics(eval_metrics, model_metrics, model_epochs):\n",
    "    #Ploting metrics\n",
    "    for metric in eval_metrics:\n",
    "        plt.plot(model_epochs, model_metrics[metric], label=metric)\n",
    "    plt.legend()\n",
    "    plt.xlabel('Epoch')\n",
    "    plt.title('Training vs validation metrics')\n",
    "\n",
    "plot_metrics(eval_metrics, model_metrics, model_epochs)"
   ]
  },
  {
   "cell_type": "code",
   "execution_count": 38,
   "metadata": {},
   "outputs": [],
   "source": [
    "def testing_output(model, text):\n",
    "    tokenized_text = tokenizer(list(text), padding=True, truncation=True, return_tensors='tf')\n",
    "    encoded_text = encoder(tokenized_text).pooler_output\n",
    "    reshaped_text = tf.expand_dims(encoded_text, axis=1)\n",
    "    result = (model.predict(reshaped_text)>0.7).astype(int)\n",
    "    return result\n"
   ]
  },
  {
   "cell_type": "code",
   "execution_count": 39,
   "metadata": {},
   "outputs": [],
   "source": [
    "test_text_ham=[\"Hi, I'm Alex. can't wait to meet you soon!\"]\n",
    "test_text_spam = [\"We've updated our login credential policy. Please confirm your account by logging into Google Docs.\"]"
   ]
  },
  {
   "cell_type": "code",
   "execution_count": 40,
   "metadata": {},
   "outputs": [
    {
     "name": "stdout",
     "output_type": "stream",
     "text": [
      "1/1 [==============================] - 0s 388ms/step\n"
     ]
    },
    {
     "data": {
      "text/plain": [
       "array([[[0]]])"
      ]
     },
     "execution_count": 40,
     "metadata": {},
     "output_type": "execute_result"
    }
   ],
   "source": [
    "testing_output(my_model, test_text_ham)"
   ]
  },
  {
   "cell_type": "code",
   "execution_count": 43,
   "metadata": {},
   "outputs": [
    {
     "name": "stdout",
     "output_type": "stream",
     "text": [
      "1/1 [==============================] - 0s 9ms/step\n"
     ]
    },
    {
     "data": {
      "text/plain": [
       "array([[[1]]])"
      ]
     },
     "execution_count": 43,
     "metadata": {},
     "output_type": "execute_result"
    }
   ],
   "source": [
    "testing_output(my_model, test_text_spam)"
   ]
  },
  {
   "cell_type": "markdown",
   "metadata": {},
   "source": [
    "SAVING THE MODEL"
   ]
  },
  {
   "cell_type": "code",
   "execution_count": 42,
   "metadata": {},
   "outputs": [],
   "source": [
    "def save_model(model, folder_path):\n",
    "    def find_next_model_index(folder_path):\n",
    "        model_index = 0\n",
    "        while os.path.exists(os.path.join(folder_path, f'model_{model_index}.keras')):\n",
    "            model_index += 1\n",
    "        return model_index\n",
    "    \n",
    "    model_index = find_next_model_index(folder_path)\n",
    "    model_filename = os.path.join(folder_path, f'model_{model_index}.keras')\n",
    "    model.save(model_filename)\n",
    "\n",
    "save_model(my_model, '../models/')"
   ]
  }
 ],
 "metadata": {
  "kernelspec": {
   "display_name": "Python 3",
   "language": "python",
   "name": "python3"
  },
  "language_info": {
   "codemirror_mode": {
    "name": "ipython",
    "version": 3
   },
   "file_extension": ".py",
   "mimetype": "text/x-python",
   "name": "python",
   "nbconvert_exporter": "python",
   "pygments_lexer": "ipython3",
   "version": "3.11.6"
  }
 },
 "nbformat": 4,
 "nbformat_minor": 2
}
